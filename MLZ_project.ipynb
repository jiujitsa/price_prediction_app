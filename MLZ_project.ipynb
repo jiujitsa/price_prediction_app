{
 "cells": [
  {
   "cell_type": "code",
   "execution_count": 1,
   "id": "e1eb8901",
   "metadata": {},
   "outputs": [
    {
     "data": {
      "text/plain": [
       "{'divide': 'warn', 'over': 'warn', 'under': 'ignore', 'invalid': 'warn'}"
      ]
     },
     "execution_count": 1,
     "metadata": {},
     "output_type": "execute_result"
    }
   ],
   "source": [
    "import numpy as np\n",
    "import pandas as pd\n",
    "import seaborn as sb\n",
    "import matplotlib as mpl\n",
    "import requests\n",
    "from matplotlib import pyplot as plt\n",
    "np.seterr(divide = 'ignore') \n"
   ]
  },
  {
   "cell_type": "code",
   "execution_count": 2,
   "id": "b87fd0aa",
   "metadata": {},
   "outputs": [],
   "source": [
    "df = pd.read_excel('Final comparison 2.xlsx')"
   ]
  },
  {
   "cell_type": "code",
   "execution_count": 3,
   "id": "712344dc",
   "metadata": {},
   "outputs": [
    {
     "data": {
      "text/html": [
       "<div>\n",
       "<style scoped>\n",
       "    .dataframe tbody tr th:only-of-type {\n",
       "        vertical-align: middle;\n",
       "    }\n",
       "\n",
       "    .dataframe tbody tr th {\n",
       "        vertical-align: top;\n",
       "    }\n",
       "\n",
       "    .dataframe thead th {\n",
       "        text-align: right;\n",
       "    }\n",
       "</style>\n",
       "<table border=\"1\" class=\"dataframe\">\n",
       "  <thead>\n",
       "    <tr style=\"text-align: right;\">\n",
       "      <th></th>\n",
       "      <th>Unnamed: 0</th>\n",
       "      <th>PartControlNumber</th>\n",
       "      <th>Part Description</th>\n",
       "      <th>Actual Price(Supplier Curr)</th>\n",
       "      <th>Currency Code</th>\n",
       "      <th>CSS</th>\n",
       "      <th>CPSCII Name</th>\n",
       "      <th>Global- PMT</th>\n",
       "      <th>Common value</th>\n",
       "      <th>Price</th>\n",
       "      <th>Price P EUR</th>\n",
       "      <th>Coef</th>\n",
       "      <th>Unnamed: 12</th>\n",
       "    </tr>\n",
       "  </thead>\n",
       "  <tbody>\n",
       "    <tr>\n",
       "      <th>0</th>\n",
       "      <td>2614</td>\n",
       "      <td>BK31V200K23GJ</td>\n",
       "      <td>PANEL-BODY SIDE RR, LH</td>\n",
       "      <td>49.82929</td>\n",
       "      <td>EUR</td>\n",
       "      <td>Upper Body Structure</td>\n",
       "      <td>Body Side</td>\n",
       "      <td>1</td>\n",
       "      <td>Yes</td>\n",
       "      <td>11299.99</td>\n",
       "      <td>644.09943</td>\n",
       "      <td>12.926121</td>\n",
       "      <td>NaN</td>\n",
       "    </tr>\n",
       "    <tr>\n",
       "      <th>1</th>\n",
       "      <td>2567</td>\n",
       "      <td>KK31V200K22HA</td>\n",
       "      <td>BRA BDY SD LWR RR</td>\n",
       "      <td>49.82929</td>\n",
       "      <td>EUR</td>\n",
       "      <td>Upper Body Structure</td>\n",
       "      <td>Body Side</td>\n",
       "      <td>1</td>\n",
       "      <td>Yes</td>\n",
       "      <td>11299.99</td>\n",
       "      <td>644.09943</td>\n",
       "      <td>12.926121</td>\n",
       "      <td>NaN</td>\n",
       "    </tr>\n",
       "    <tr>\n",
       "      <th>2</th>\n",
       "      <td>2516</td>\n",
       "      <td>FK312C405AB</td>\n",
       "      <td>UNT ASY M/FUNC IVD CONTR</td>\n",
       "      <td>78.32340</td>\n",
       "      <td>EUR</td>\n",
       "      <td>Brakes</td>\n",
       "      <td>Brake Controls</td>\n",
       "      <td>3</td>\n",
       "      <td>Yes</td>\n",
       "      <td>11299.99</td>\n",
       "      <td>644.09943</td>\n",
       "      <td>8.223589</td>\n",
       "      <td>NaN</td>\n",
       "    </tr>\n",
       "    <tr>\n",
       "      <th>3</th>\n",
       "      <td>2443</td>\n",
       "      <td>BK315E211ED</td>\n",
       "      <td>CONV &amp; PIP ASY EXH</td>\n",
       "      <td>201.61148</td>\n",
       "      <td>EUR</td>\n",
       "      <td>Exhaust (Powerpack)</td>\n",
       "      <td>Emission Control Components</td>\n",
       "      <td>4</td>\n",
       "      <td>Yes</td>\n",
       "      <td>11299.99</td>\n",
       "      <td>644.09943</td>\n",
       "      <td>3.194756</td>\n",
       "      <td>NaN</td>\n",
       "    </tr>\n",
       "    <tr>\n",
       "      <th>4</th>\n",
       "      <td>2828</td>\n",
       "      <td>BK315H250AE</td>\n",
       "      <td>FLTR ASY ENG CTLST EXH PRTCLT</td>\n",
       "      <td>308.93787</td>\n",
       "      <td>EUR</td>\n",
       "      <td>Exhaust (Powerpack)</td>\n",
       "      <td>Emission Control Components</td>\n",
       "      <td>4</td>\n",
       "      <td>Yes</td>\n",
       "      <td>11299.99</td>\n",
       "      <td>644.09943</td>\n",
       "      <td>2.084883</td>\n",
       "      <td>NaN</td>\n",
       "    </tr>\n",
       "    <tr>\n",
       "      <th>5</th>\n",
       "      <td>871</td>\n",
       "      <td>BK315H270DB</td>\n",
       "      <td>CONV &amp; PRTCLT FLTR ASY EXH</td>\n",
       "      <td>356.31958</td>\n",
       "      <td>EUR</td>\n",
       "      <td>Exhaust (Powerpack)</td>\n",
       "      <td>Emission Control Components</td>\n",
       "      <td>4</td>\n",
       "      <td>Yes</td>\n",
       "      <td>11299.99</td>\n",
       "      <td>644.09943</td>\n",
       "      <td>1.807645</td>\n",
       "      <td>NaN</td>\n",
       "    </tr>\n",
       "    <tr>\n",
       "      <th>6</th>\n",
       "      <td>4897</td>\n",
       "      <td>JK315L243AB</td>\n",
       "      <td>CONV &amp; SEL CTLST REDUC FLTR ASY</td>\n",
       "      <td>392.62523</td>\n",
       "      <td>EUR</td>\n",
       "      <td>Exhaust (Powerpack)</td>\n",
       "      <td>Emission Control Components</td>\n",
       "      <td>4</td>\n",
       "      <td>Yes</td>\n",
       "      <td>11299.99</td>\n",
       "      <td>644.09943</td>\n",
       "      <td>1.640494</td>\n",
       "      <td>NaN</td>\n",
       "    </tr>\n",
       "    <tr>\n",
       "      <th>7</th>\n",
       "      <td>3074</td>\n",
       "      <td>KK2112A650FA</td>\n",
       "      <td>PROCS ASY ENG ELETR CONTR</td>\n",
       "      <td>82.05150</td>\n",
       "      <td>EUR</td>\n",
       "      <td>Powertrain Controls and Calibration</td>\n",
       "      <td>Powertrain and Auxiliary Control Modules</td>\n",
       "      <td>4</td>\n",
       "      <td>Yes</td>\n",
       "      <td>11299.99</td>\n",
       "      <td>644.09943</td>\n",
       "      <td>7.849941</td>\n",
       "      <td>NaN</td>\n",
       "    </tr>\n",
       "    <tr>\n",
       "      <th>8</th>\n",
       "      <td>4895</td>\n",
       "      <td>KK3R7003BB</td>\n",
       "      <td>TRANS ASY</td>\n",
       "      <td>672.09110</td>\n",
       "      <td>EUR</td>\n",
       "      <td>Manual Transmission</td>\n",
       "      <td>Module - Manual or Auto Manual Trans</td>\n",
       "      <td>4</td>\n",
       "      <td>Yes</td>\n",
       "      <td>11299.99</td>\n",
       "      <td>644.09943</td>\n",
       "      <td>0.958351</td>\n",
       "      <td>NaN</td>\n",
       "    </tr>\n",
       "    <tr>\n",
       "      <th>9</th>\n",
       "      <td>4899</td>\n",
       "      <td>KK3T14401AAFD</td>\n",
       "      <td>WIR ASY MN</td>\n",
       "      <td>302.12134</td>\n",
       "      <td>EUR</td>\n",
       "      <td>EDS</td>\n",
       "      <td>Instrument Panel Harness</td>\n",
       "      <td>5</td>\n",
       "      <td>Yes</td>\n",
       "      <td>11299.99</td>\n",
       "      <td>644.09943</td>\n",
       "      <td>2.131923</td>\n",
       "      <td>NaN</td>\n",
       "    </tr>\n",
       "  </tbody>\n",
       "</table>\n",
       "</div>"
      ],
      "text/plain": [
       "   Unnamed: 0 PartControlNumber                    Part Description  \\\n",
       "0        2614     BK31V200K23GJ  PANEL-BODY SIDE RR, LH               \n",
       "1        2567     KK31V200K22HA  BRA BDY SD LWR RR                    \n",
       "2        2516       FK312C405AB  UNT ASY M/FUNC IVD CONTR             \n",
       "3        2443       BK315E211ED  CONV & PIP ASY EXH                   \n",
       "4        2828       BK315H250AE  FLTR ASY ENG CTLST EXH PRTCLT        \n",
       "5         871       BK315H270DB  CONV & PRTCLT FLTR ASY EXH           \n",
       "6        4897       JK315L243AB  CONV & SEL CTLST REDUC FLTR ASY      \n",
       "7        3074      KK2112A650FA  PROCS ASY ENG ELETR CONTR            \n",
       "8        4895        KK3R7003BB  TRANS ASY                            \n",
       "9        4899     KK3T14401AAFD  WIR ASY MN                           \n",
       "\n",
       "   Actual Price(Supplier Curr) Currency Code  \\\n",
       "0                     49.82929           EUR   \n",
       "1                     49.82929           EUR   \n",
       "2                     78.32340           EUR   \n",
       "3                    201.61148           EUR   \n",
       "4                    308.93787           EUR   \n",
       "5                    356.31958           EUR   \n",
       "6                    392.62523           EUR   \n",
       "7                     82.05150           EUR   \n",
       "8                    672.09110           EUR   \n",
       "9                    302.12134           EUR   \n",
       "\n",
       "                                   CSS  \\\n",
       "0                 Upper Body Structure   \n",
       "1                 Upper Body Structure   \n",
       "2                               Brakes   \n",
       "3                  Exhaust (Powerpack)   \n",
       "4                  Exhaust (Powerpack)   \n",
       "5                  Exhaust (Powerpack)   \n",
       "6                  Exhaust (Powerpack)   \n",
       "7  Powertrain Controls and Calibration   \n",
       "8                  Manual Transmission   \n",
       "9                                  EDS   \n",
       "\n",
       "                                CPSCII Name  Global- PMT Common value  \\\n",
       "0                                 Body Side            1          Yes   \n",
       "1                                 Body Side            1          Yes   \n",
       "2                            Brake Controls            3          Yes   \n",
       "3               Emission Control Components            4          Yes   \n",
       "4               Emission Control Components            4          Yes   \n",
       "5               Emission Control Components            4          Yes   \n",
       "6               Emission Control Components            4          Yes   \n",
       "7  Powertrain and Auxiliary Control Modules            4          Yes   \n",
       "8      Module - Manual or Auto Manual Trans            4          Yes   \n",
       "9                  Instrument Panel Harness            5          Yes   \n",
       "\n",
       "      Price  Price P EUR       Coef Unnamed: 12  \n",
       "0  11299.99    644.09943  12.926121         NaN  \n",
       "1  11299.99    644.09943  12.926121         NaN  \n",
       "2  11299.99    644.09943   8.223589         NaN  \n",
       "3  11299.99    644.09943   3.194756         NaN  \n",
       "4  11299.99    644.09943   2.084883         NaN  \n",
       "5  11299.99    644.09943   1.807645         NaN  \n",
       "6  11299.99    644.09943   1.640494         NaN  \n",
       "7  11299.99    644.09943   7.849941         NaN  \n",
       "8  11299.99    644.09943   0.958351         NaN  \n",
       "9  11299.99    644.09943   2.131923         NaN  "
      ]
     },
     "execution_count": 3,
     "metadata": {},
     "output_type": "execute_result"
    }
   ],
   "source": [
    "df.head(10)"
   ]
  },
  {
   "cell_type": "code",
   "execution_count": 4,
   "id": "0887e40f",
   "metadata": {},
   "outputs": [],
   "source": [
    "del df['Unnamed: 0']"
   ]
  },
  {
   "cell_type": "code",
   "execution_count": 5,
   "id": "0c940de7",
   "metadata": {},
   "outputs": [],
   "source": [
    "df.rename(columns={'Actual Price(Supplier Curr)':'actual_price'}, inplace=True)\n"
   ]
  },
  {
   "cell_type": "code",
   "execution_count": 6,
   "id": "33648ada",
   "metadata": {},
   "outputs": [],
   "source": [
    "df.rename(columns={'Price P EUR':'online_price'}, inplace=True)\n"
   ]
  },
  {
   "cell_type": "code",
   "execution_count": 7,
   "id": "67e0e07a",
   "metadata": {},
   "outputs": [
    {
     "data": {
      "text/html": [
       "<div>\n",
       "<style scoped>\n",
       "    .dataframe tbody tr th:only-of-type {\n",
       "        vertical-align: middle;\n",
       "    }\n",
       "\n",
       "    .dataframe tbody tr th {\n",
       "        vertical-align: top;\n",
       "    }\n",
       "\n",
       "    .dataframe thead th {\n",
       "        text-align: right;\n",
       "    }\n",
       "</style>\n",
       "<table border=\"1\" class=\"dataframe\">\n",
       "  <thead>\n",
       "    <tr style=\"text-align: right;\">\n",
       "      <th></th>\n",
       "      <th>PartControlNumber</th>\n",
       "      <th>Part Description</th>\n",
       "      <th>actual_price</th>\n",
       "      <th>Currency Code</th>\n",
       "      <th>CSS</th>\n",
       "      <th>CPSCII Name</th>\n",
       "      <th>Global- PMT</th>\n",
       "      <th>Common value</th>\n",
       "      <th>Price</th>\n",
       "      <th>online_price</th>\n",
       "      <th>Coef</th>\n",
       "      <th>Unnamed: 12</th>\n",
       "    </tr>\n",
       "  </thead>\n",
       "  <tbody>\n",
       "    <tr>\n",
       "      <th>0</th>\n",
       "      <td>BK31V200K23GJ</td>\n",
       "      <td>PANEL-BODY SIDE RR, LH</td>\n",
       "      <td>49.82929</td>\n",
       "      <td>EUR</td>\n",
       "      <td>Upper Body Structure</td>\n",
       "      <td>Body Side</td>\n",
       "      <td>1</td>\n",
       "      <td>Yes</td>\n",
       "      <td>11299.99</td>\n",
       "      <td>644.09943</td>\n",
       "      <td>12.926121</td>\n",
       "      <td>NaN</td>\n",
       "    </tr>\n",
       "    <tr>\n",
       "      <th>1</th>\n",
       "      <td>KK31V200K22HA</td>\n",
       "      <td>BRA BDY SD LWR RR</td>\n",
       "      <td>49.82929</td>\n",
       "      <td>EUR</td>\n",
       "      <td>Upper Body Structure</td>\n",
       "      <td>Body Side</td>\n",
       "      <td>1</td>\n",
       "      <td>Yes</td>\n",
       "      <td>11299.99</td>\n",
       "      <td>644.09943</td>\n",
       "      <td>12.926121</td>\n",
       "      <td>NaN</td>\n",
       "    </tr>\n",
       "    <tr>\n",
       "      <th>2</th>\n",
       "      <td>FK312C405AB</td>\n",
       "      <td>UNT ASY M/FUNC IVD CONTR</td>\n",
       "      <td>78.32340</td>\n",
       "      <td>EUR</td>\n",
       "      <td>Brakes</td>\n",
       "      <td>Brake Controls</td>\n",
       "      <td>3</td>\n",
       "      <td>Yes</td>\n",
       "      <td>11299.99</td>\n",
       "      <td>644.09943</td>\n",
       "      <td>8.223589</td>\n",
       "      <td>NaN</td>\n",
       "    </tr>\n",
       "    <tr>\n",
       "      <th>3</th>\n",
       "      <td>BK315E211ED</td>\n",
       "      <td>CONV &amp; PIP ASY EXH</td>\n",
       "      <td>201.61148</td>\n",
       "      <td>EUR</td>\n",
       "      <td>Exhaust (Powerpack)</td>\n",
       "      <td>Emission Control Components</td>\n",
       "      <td>4</td>\n",
       "      <td>Yes</td>\n",
       "      <td>11299.99</td>\n",
       "      <td>644.09943</td>\n",
       "      <td>3.194756</td>\n",
       "      <td>NaN</td>\n",
       "    </tr>\n",
       "    <tr>\n",
       "      <th>4</th>\n",
       "      <td>BK315H250AE</td>\n",
       "      <td>FLTR ASY ENG CTLST EXH PRTCLT</td>\n",
       "      <td>308.93787</td>\n",
       "      <td>EUR</td>\n",
       "      <td>Exhaust (Powerpack)</td>\n",
       "      <td>Emission Control Components</td>\n",
       "      <td>4</td>\n",
       "      <td>Yes</td>\n",
       "      <td>11299.99</td>\n",
       "      <td>644.09943</td>\n",
       "      <td>2.084883</td>\n",
       "      <td>NaN</td>\n",
       "    </tr>\n",
       "  </tbody>\n",
       "</table>\n",
       "</div>"
      ],
      "text/plain": [
       "  PartControlNumber                    Part Description  actual_price  \\\n",
       "0     BK31V200K23GJ  PANEL-BODY SIDE RR, LH                  49.82929   \n",
       "1     KK31V200K22HA  BRA BDY SD LWR RR                       49.82929   \n",
       "2       FK312C405AB  UNT ASY M/FUNC IVD CONTR                78.32340   \n",
       "3       BK315E211ED  CONV & PIP ASY EXH                     201.61148   \n",
       "4       BK315H250AE  FLTR ASY ENG CTLST EXH PRTCLT          308.93787   \n",
       "\n",
       "  Currency Code                   CSS                  CPSCII Name  \\\n",
       "0           EUR  Upper Body Structure                    Body Side   \n",
       "1           EUR  Upper Body Structure                    Body Side   \n",
       "2           EUR                Brakes               Brake Controls   \n",
       "3           EUR   Exhaust (Powerpack)  Emission Control Components   \n",
       "4           EUR   Exhaust (Powerpack)  Emission Control Components   \n",
       "\n",
       "   Global- PMT Common value     Price  online_price       Coef Unnamed: 12  \n",
       "0            1          Yes  11299.99     644.09943  12.926121         NaN  \n",
       "1            1          Yes  11299.99     644.09943  12.926121         NaN  \n",
       "2            3          Yes  11299.99     644.09943   8.223589         NaN  \n",
       "3            4          Yes  11299.99     644.09943   3.194756         NaN  \n",
       "4            4          Yes  11299.99     644.09943   2.084883         NaN  "
      ]
     },
     "execution_count": 7,
     "metadata": {},
     "output_type": "execute_result"
    }
   ],
   "source": [
    "df.head()"
   ]
  },
  {
   "cell_type": "code",
   "execution_count": 8,
   "id": "52382ceb",
   "metadata": {},
   "outputs": [],
   "source": [
    "df =  df[['actual_price', 'CPSCII Name', 'online_price']]"
   ]
  },
  {
   "cell_type": "code",
   "execution_count": 9,
   "id": "9d9ec8ec",
   "metadata": {},
   "outputs": [],
   "source": [
    "df.actual_price = np.log(df.actual_price)"
   ]
  },
  {
   "cell_type": "code",
   "execution_count": 10,
   "id": "7fe20d44",
   "metadata": {},
   "outputs": [],
   "source": [
    "#pd.set_option('display.max_rows', df.shape[0]+1)\n"
   ]
  },
  {
   "cell_type": "code",
   "execution_count": 11,
   "id": "6a702ddb",
   "metadata": {},
   "outputs": [],
   "source": [
    "df.replace([np.inf, -np.inf], 0, inplace=True)\n"
   ]
  },
  {
   "cell_type": "code",
   "execution_count": 12,
   "id": "fea094d7",
   "metadata": {},
   "outputs": [
    {
     "data": {
      "text/html": [
       "<div>\n",
       "<style scoped>\n",
       "    .dataframe tbody tr th:only-of-type {\n",
       "        vertical-align: middle;\n",
       "    }\n",
       "\n",
       "    .dataframe tbody tr th {\n",
       "        vertical-align: top;\n",
       "    }\n",
       "\n",
       "    .dataframe thead th {\n",
       "        text-align: right;\n",
       "    }\n",
       "</style>\n",
       "<table border=\"1\" class=\"dataframe\">\n",
       "  <thead>\n",
       "    <tr style=\"text-align: right;\">\n",
       "      <th></th>\n",
       "      <th>actual_price</th>\n",
       "      <th>CPSCII Name</th>\n",
       "      <th>online_price</th>\n",
       "    </tr>\n",
       "  </thead>\n",
       "  <tbody>\n",
       "    <tr>\n",
       "      <th>0</th>\n",
       "      <td>3.908603</td>\n",
       "      <td>Body Side</td>\n",
       "      <td>644.09943</td>\n",
       "    </tr>\n",
       "    <tr>\n",
       "      <th>1</th>\n",
       "      <td>3.908603</td>\n",
       "      <td>Body Side</td>\n",
       "      <td>644.09943</td>\n",
       "    </tr>\n",
       "    <tr>\n",
       "      <th>2</th>\n",
       "      <td>4.360846</td>\n",
       "      <td>Brake Controls</td>\n",
       "      <td>644.09943</td>\n",
       "    </tr>\n",
       "    <tr>\n",
       "      <th>3</th>\n",
       "      <td>5.306342</td>\n",
       "      <td>Emission Control Components</td>\n",
       "      <td>644.09943</td>\n",
       "    </tr>\n",
       "    <tr>\n",
       "      <th>4</th>\n",
       "      <td>5.733140</td>\n",
       "      <td>Emission Control Components</td>\n",
       "      <td>644.09943</td>\n",
       "    </tr>\n",
       "    <tr>\n",
       "      <th>...</th>\n",
       "      <td>...</td>\n",
       "      <td>...</td>\n",
       "      <td>...</td>\n",
       "    </tr>\n",
       "    <tr>\n",
       "      <th>1336</th>\n",
       "      <td>-2.563950</td>\n",
       "      <td>Road Wheel and Tire Assembly</td>\n",
       "      <td>0.00000</td>\n",
       "    </tr>\n",
       "    <tr>\n",
       "      <th>1337</th>\n",
       "      <td>0.000000</td>\n",
       "      <td>Road Wheel and Tire Assembly</td>\n",
       "      <td>0.00000</td>\n",
       "    </tr>\n",
       "    <tr>\n",
       "      <th>1338</th>\n",
       "      <td>-2.365525</td>\n",
       "      <td>Front Rotor and Shield</td>\n",
       "      <td>0.00000</td>\n",
       "    </tr>\n",
       "    <tr>\n",
       "      <th>1339</th>\n",
       "      <td>1.560634</td>\n",
       "      <td>Hose Set - Coolant (includes Expansion Tank)</td>\n",
       "      <td>0.00000</td>\n",
       "    </tr>\n",
       "    <tr>\n",
       "      <th>1340</th>\n",
       "      <td>-2.419119</td>\n",
       "      <td>Powertrain and Auxiliary Control Modules</td>\n",
       "      <td>0.00000</td>\n",
       "    </tr>\n",
       "  </tbody>\n",
       "</table>\n",
       "<p>1341 rows × 3 columns</p>\n",
       "</div>"
      ],
      "text/plain": [
       "      actual_price                                   CPSCII Name  online_price\n",
       "0         3.908603                                     Body Side     644.09943\n",
       "1         3.908603                                     Body Side     644.09943\n",
       "2         4.360846                                Brake Controls     644.09943\n",
       "3         5.306342                   Emission Control Components     644.09943\n",
       "4         5.733140                   Emission Control Components     644.09943\n",
       "...            ...                                           ...           ...\n",
       "1336     -2.563950                  Road Wheel and Tire Assembly       0.00000\n",
       "1337      0.000000                  Road Wheel and Tire Assembly       0.00000\n",
       "1338     -2.365525                        Front Rotor and Shield       0.00000\n",
       "1339      1.560634  Hose Set - Coolant (includes Expansion Tank)       0.00000\n",
       "1340     -2.419119      Powertrain and Auxiliary Control Modules       0.00000\n",
       "\n",
       "[1341 rows x 3 columns]"
      ]
     },
     "execution_count": 12,
     "metadata": {},
     "output_type": "execute_result"
    }
   ],
   "source": [
    "df"
   ]
  },
  {
   "cell_type": "code",
   "execution_count": 13,
   "id": "0c69b2a4",
   "metadata": {},
   "outputs": [],
   "source": [
    "from sklearn.model_selection import train_test_split"
   ]
  },
  {
   "cell_type": "code",
   "execution_count": 14,
   "id": "1c3ed66f",
   "metadata": {},
   "outputs": [],
   "source": [
    "df_full_train, df_test = train_test_split(df, test_size=0.2, random_state=1, shuffle=True)"
   ]
  },
  {
   "cell_type": "code",
   "execution_count": 15,
   "id": "5a2f2aba",
   "metadata": {},
   "outputs": [],
   "source": [
    "df_train, df_val = train_test_split(df_full_train, test_size=0.25, random_state=1, shuffle=True)"
   ]
  },
  {
   "cell_type": "code",
   "execution_count": 16,
   "id": "4e8b4647",
   "metadata": {},
   "outputs": [
    {
     "data": {
      "text/plain": [
       "(804, 3)"
      ]
     },
     "execution_count": 16,
     "metadata": {},
     "output_type": "execute_result"
    }
   ],
   "source": [
    "df_train.shape"
   ]
  },
  {
   "cell_type": "code",
   "execution_count": 17,
   "id": "e2557424",
   "metadata": {},
   "outputs": [],
   "source": [
    "y_train = df_train['actual_price']\n",
    "y_test = df_test['actual_price']\n",
    "y_val = df_val['actual_price']\n"
   ]
  },
  {
   "cell_type": "code",
   "execution_count": null,
   "id": "9d38b7ea",
   "metadata": {},
   "outputs": [],
   "source": []
  },
  {
   "cell_type": "code",
   "execution_count": 18,
   "id": "0648dff5",
   "metadata": {},
   "outputs": [],
   "source": [
    "del df_train['actual_price']\n",
    "del df_test['actual_price']\n",
    "del df_val['actual_price']"
   ]
  },
  {
   "cell_type": "code",
   "execution_count": 19,
   "id": "0eb19d2e",
   "metadata": {},
   "outputs": [
    {
     "data": {
      "text/plain": [
       "15     525.77370\n",
       "704     14.16963\n",
       "208     96.43545\n",
       "983      4.14390\n",
       "603     20.31423\n",
       "         ...    \n",
       "566     22.59765\n",
       "944      5.00004\n",
       "109    170.95554\n",
       "699     14.40276\n",
       "508     26.54148\n",
       "Name: online_price, Length: 804, dtype: float64"
      ]
     },
     "execution_count": 19,
     "metadata": {},
     "output_type": "execute_result"
    }
   ],
   "source": [
    "df_train['online_price']"
   ]
  },
  {
   "cell_type": "code",
   "execution_count": 20,
   "id": "e9ca5f11",
   "metadata": {},
   "outputs": [
    {
     "data": {
      "text/plain": [
       "15     4.138582\n",
       "704   -0.214184\n",
       "208    2.160765\n",
       "983   -0.730019\n",
       "603    1.541033\n",
       "         ...   \n",
       "566    0.815144\n",
       "944    0.078386\n",
       "109    3.315289\n",
       "699    0.921049\n",
       "508    0.397278\n",
       "Name: actual_price, Length: 804, dtype: float64"
      ]
     },
     "execution_count": 20,
     "metadata": {},
     "output_type": "execute_result"
    }
   ],
   "source": [
    "y_train"
   ]
  },
  {
   "cell_type": "markdown",
   "id": "26775944",
   "metadata": {},
   "source": [
    "# Linear Regression Model"
   ]
  },
  {
   "cell_type": "code",
   "execution_count": 21,
   "id": "e029d736",
   "metadata": {},
   "outputs": [],
   "source": [
    "from sklearn.linear_model import LinearRegression"
   ]
  },
  {
   "cell_type": "code",
   "execution_count": 22,
   "id": "b68a3b93",
   "metadata": {},
   "outputs": [],
   "source": [
    "from sklearn.metrics import mean_squared_error"
   ]
  },
  {
   "cell_type": "code",
   "execution_count": 23,
   "id": "e35f6269",
   "metadata": {},
   "outputs": [],
   "source": [
    "lin_reg = LinearRegression().fit(df_train[['online_price']], y_train)\n"
   ]
  },
  {
   "cell_type": "code",
   "execution_count": 24,
   "id": "c5785cc2",
   "metadata": {},
   "outputs": [
    {
     "data": {
      "text/plain": [
       "0.3601730769719984"
      ]
     },
     "execution_count": 24,
     "metadata": {},
     "output_type": "execute_result"
    }
   ],
   "source": [
    "lin_reg.score(df_train[['online_price']], y_train)"
   ]
  },
  {
   "cell_type": "code",
   "execution_count": 25,
   "id": "e099406d",
   "metadata": {},
   "outputs": [],
   "source": [
    "y_test_pred = lin_reg.predict(df_test[['online_price']])"
   ]
  },
  {
   "cell_type": "code",
   "execution_count": 26,
   "id": "13d62dea",
   "metadata": {},
   "outputs": [],
   "source": [
    "lin_reg_rmse = mean_squared_error(y_test, y_test_pred)"
   ]
  },
  {
   "cell_type": "code",
   "execution_count": 27,
   "id": "a518e923",
   "metadata": {},
   "outputs": [
    {
     "data": {
      "text/plain": [
       "2.3281692926045987"
      ]
     },
     "execution_count": 27,
     "metadata": {},
     "output_type": "execute_result"
    }
   ],
   "source": [
    "lin_reg_rmse"
   ]
  },
  {
   "cell_type": "markdown",
   "id": "e55db9e9",
   "metadata": {},
   "source": [
    "# Dict Vectorizer"
   ]
  },
  {
   "cell_type": "code",
   "execution_count": 28,
   "id": "b7a3c5eb",
   "metadata": {},
   "outputs": [],
   "source": [
    "from sklearn.feature_extraction import DictVectorizer\n"
   ]
  },
  {
   "cell_type": "code",
   "execution_count": 29,
   "id": "5807d809",
   "metadata": {},
   "outputs": [],
   "source": [
    "dv = DictVectorizer(sparse=False)\n"
   ]
  },
  {
   "cell_type": "code",
   "execution_count": 30,
   "id": "714aa6d1",
   "metadata": {},
   "outputs": [],
   "source": [
    "train_dict = df_train.to_dict(orient='records')\n",
    "val_dict = df_val.to_dict(orient='records')\n",
    "test_dict = df_test.to_dict(orient='records')"
   ]
  },
  {
   "cell_type": "code",
   "execution_count": 31,
   "id": "03edd86f",
   "metadata": {},
   "outputs": [
    {
     "data": {
      "text/plain": [
       "DictVectorizer(sparse=False)"
      ]
     },
     "execution_count": 31,
     "metadata": {},
     "output_type": "execute_result"
    }
   ],
   "source": [
    "dv.fit(train_dict)\n",
    "dv.fit(val_dict)\n",
    "dv.fit(test_dict)"
   ]
  },
  {
   "cell_type": "code",
   "execution_count": 32,
   "id": "1c30b26d",
   "metadata": {},
   "outputs": [],
   "source": [
    "X_train = dv.transform(train_dict)\n",
    "X_val = dv.transform(val_dict)\n",
    "X_test = dv.transform(test_dict)"
   ]
  },
  {
   "cell_type": "code",
   "execution_count": 33,
   "id": "6588a493",
   "metadata": {},
   "outputs": [
    {
     "data": {
      "text/plain": [
       "(804, 112)"
      ]
     },
     "execution_count": 33,
     "metadata": {},
     "output_type": "execute_result"
    }
   ],
   "source": [
    "X_train.shape"
   ]
  },
  {
   "cell_type": "code",
   "execution_count": 34,
   "id": "931aa441",
   "metadata": {},
   "outputs": [],
   "source": [
    "feature_names=dv.get_feature_names_out()"
   ]
  },
  {
   "cell_type": "code",
   "execution_count": 35,
   "id": "3ca748f7",
   "metadata": {},
   "outputs": [
    {
     "data": {
      "text/plain": [
       "array(['CPSCII Name=Acoustic Control Components',\n",
       "       'CPSCII Name=Air Cleaner',\n",
       "       'CPSCII Name=Air Handling/Body Ventilation Subsystem',\n",
       "       'CPSCII Name=Applied Parts - (IP)',\n",
       "       'CPSCII Name=Auxiliary Water Pump', 'CPSCII Name=Badging',\n",
       "       'CPSCII Name=Battery Cables',\n",
       "       'CPSCII Name=Beam Rear Axle Assembly',\n",
       "       'CPSCII Name=Body And Rear End Wiring',\n",
       "       'CPSCII Name=Body Dash and Cowl', 'CPSCII Name=Body Side',\n",
       "       'CPSCII Name=Brake Controls', 'CPSCII Name=Brake Lines and Hoses',\n",
       "       'CPSCII Name=CHMSL (Center High Mount Stop Light)',\n",
       "       'CPSCII Name=Cab Back & Ring Frame',\n",
       "       'CPSCII Name=Clutch Actuation Assembly',\n",
       "       'CPSCII Name=Cross-Car Beam (IP)',\n",
       "       'CPSCII Name=Drive Belts/Pulleys and Component Mounting Bracketry',\n",
       "       'CPSCII Name=EDS Components & Fasteners',\n",
       "       'CPSCII Name=Emission Control Components',\n",
       "       'CPSCII Name=Emissions Additive Storage, Supply and Conditioning',\n",
       "       'CPSCII Name=Engine Bay Fuse Box / Passive',\n",
       "       'CPSCII Name=Engine Compartment Trim / E-Box',\n",
       "       'CPSCII Name=Exterior Mirrors',\n",
       "       'CPSCII Name=Front Bumper Skin and Foams',\n",
       "       'CPSCII Name=Front Door BIW', 'CPSCII Name=Front Door Trim Panel',\n",
       "       'CPSCII Name=Front Fenders', 'CPSCII Name=Front Floor',\n",
       "       'CPSCII Name=Front Floor Console Main Moulding',\n",
       "       'CPSCII Name=Front Foundation Brakes Subsystem',\n",
       "       'CPSCII Name=Front Seat Frames',\n",
       "       'CPSCII Name=Front Side Door Dynamic Weatherstrip',\n",
       "       'CPSCII Name=Front Side Door Glass',\n",
       "       'CPSCII Name=Front Stabilizer (Anti-Roll) Bar',\n",
       "       'CPSCII Name=Front Structure', 'CPSCII Name=Front Strut / Damper',\n",
       "       'CPSCII Name=Front Sub-Frame',\n",
       "       'CPSCII Name=Front Suspension Knuckle Assembly',\n",
       "       'CPSCII Name=Front Wheel Arch Liners',\n",
       "       'CPSCII Name=Fuel Distribution',\n",
       "       'CPSCII Name=Fuel Filler (Refueling)',\n",
       "       'CPSCII Name=Fuel Filler and Flap',\n",
       "       'CPSCII Name=Fuel Tank Assembly', 'CPSCII Name=Headlamp Cluster',\n",
       "       'CPSCII Name=Headliner Assembly',\n",
       "       'CPSCII Name=High Pressure Ducts', 'CPSCII Name=Hood BIW Panel',\n",
       "       'CPSCII Name=Hose Set - Coolant (includes Expansion Tank)',\n",
       "       'CPSCII Name=Infotainment Antennas and Cables',\n",
       "       'CPSCII Name=Inner Handles and Actuation',\n",
       "       'CPSCII Name=Intercooler For Pressure-Charged Engines',\n",
       "       'CPSCII Name=Interior Mirror',\n",
       "       'CPSCII Name=Load Compartment Floor Trim',\n",
       "       'CPSCII Name=Lower Exterior Finishers',\n",
       "       'CPSCII Name=Manual Gearchange Mechanism',\n",
       "       'CPSCII Name=NS Powertrain Mounting System',\n",
       "       'CPSCII Name=NVH Pads',\n",
       "       'CPSCII Name=Noise Insulation, Engine Bay and Underfloor',\n",
       "       'CPSCII Name=One Piece Body Structure',\n",
       "       'CPSCII Name=Overhead Console',\n",
       "       'CPSCII Name=Parking Brake Cables and Attaching Components',\n",
       "       'CPSCII Name=Parking Brake Controls', 'CPSCII Name=Pedals',\n",
       "       'CPSCII Name=Pillar Trim Lower', 'CPSCII Name=Pillar Trim Upper',\n",
       "       'CPSCII Name=Powertrain Control Modules: Mounting Hardware',\n",
       "       'CPSCII Name=Powertrain Control: Sensors and Actuators',\n",
       "       'CPSCII Name=Powertrain Mount - Pendulum System',\n",
       "       'CPSCII Name=Rain Sensor/Daylight Sensor/Sunload Sensor',\n",
       "       'CPSCII Name=Rear Bumper Skin and Foams',\n",
       "       'CPSCII Name=Rear Closure BIW Panel',\n",
       "       'CPSCII Name=Rear Closure Dynamic Weatherstrip',\n",
       "       'CPSCII Name=Rear Closure Finishers',\n",
       "       'CPSCII Name=Rear Closure Hinges',\n",
       "       'CPSCII Name=Rear Closure Interior Trim Panel',\n",
       "       'CPSCII Name=Rear Closure Latches',\n",
       "       'CPSCII Name=Rear Closure Support & Checks',\n",
       "       'CPSCII Name=Rear Combination Lamp', 'CPSCII Name=Rear Door BIW',\n",
       "       'CPSCII Name=Rear Floor', 'CPSCII Name=Rear Non-Driven Axles',\n",
       "       'CPSCII Name=Rear Road Spring',\n",
       "       'CPSCII Name=Rear Side Door Dynamic Weatherstrip',\n",
       "       'CPSCII Name=Rear Stabilizer (Anti-Roll) Bar',\n",
       "       'CPSCII Name=Rear Strut / Damper',\n",
       "       'CPSCII Name=Rear Suspension Knuckle Assembly',\n",
       "       'CPSCII Name=Rear Suspension Links/Arms Upper & Lower',\n",
       "       'CPSCII Name=Rear Wheel Arch Liners',\n",
       "       'CPSCII Name=Rearward Propeller Shaft',\n",
       "       'CPSCII Name=Restraint Electronics',\n",
       "       'CPSCII Name=Road Wheel and Tire Assembly',\n",
       "       'CPSCII Name=Roof and Cross-Member',\n",
       "       'CPSCII Name=Seat Belt Assembly Front Row',\n",
       "       'CPSCII Name=Servo Equipment', 'CPSCII Name=Side Door Latches',\n",
       "       'CPSCII Name=Side Doors Hinges and Checks',\n",
       "       'CPSCII Name=Sliding Door Mechanism - Power or Manual',\n",
       "       'CPSCII Name=Sliding Door Module and Electronics',\n",
       "       'CPSCII Name=Spare Wheel and Tire Assembly',\n",
       "       'CPSCII Name=Starter Motor', 'CPSCII Name=Static Sealing',\n",
       "       'CPSCII Name=Steering Column and Shroud Mounted - Switches and Clockspring',\n",
       "       'CPSCII Name=Steering Gear',\n",
       "       'CPSCII Name=Supplemental Front Lamps',\n",
       "       'CPSCII Name=Switch Pack - Front Door',\n",
       "       'CPSCII Name=Switches - Overhead',\n",
       "       'CPSCII Name=Under Engine Closures or Rock Shields',\n",
       "       'CPSCII Name=Underfloor Closures', 'CPSCII Name=Windshield',\n",
       "       'CPSCII Name=Wiper Assembly Front', 'online_price'], dtype=object)"
      ]
     },
     "execution_count": 35,
     "metadata": {},
     "output_type": "execute_result"
    }
   ],
   "source": [
    "feature_names"
   ]
  },
  {
   "cell_type": "code",
   "execution_count": 36,
   "id": "a37e5097",
   "metadata": {},
   "outputs": [
    {
     "data": {
      "text/plain": [
       "112"
      ]
     },
     "execution_count": 36,
     "metadata": {},
     "output_type": "execute_result"
    }
   ],
   "source": [
    "len(feature_names)"
   ]
  },
  {
   "cell_type": "code",
   "execution_count": null,
   "id": "279bc6ee",
   "metadata": {},
   "outputs": [],
   "source": []
  },
  {
   "cell_type": "markdown",
   "id": "295f3559",
   "metadata": {},
   "source": [
    "# Decision Tree"
   ]
  },
  {
   "cell_type": "code",
   "execution_count": 37,
   "id": "44ef8208",
   "metadata": {},
   "outputs": [],
   "source": [
    "from sklearn.tree import DecisionTreeRegressor\n"
   ]
  },
  {
   "cell_type": "code",
   "execution_count": 38,
   "id": "24b1ed24",
   "metadata": {},
   "outputs": [
    {
     "name": "stdout",
     "output_type": "stream",
     "text": [
      "1 1.84\n",
      "2 1.22\n",
      "3 1.01\n",
      "4 0.82\n",
      "5 0.95\n",
      "6 0.92\n",
      "7 0.89\n",
      "8 0.87\n",
      "9 0.89\n"
     ]
    }
   ],
   "source": [
    "for depth in range(1,10):\n",
    "    dt = DecisionTreeRegressor(max_depth=depth)\n",
    "    dt.fit(X_train, y_train)\n",
    "    y_val_pred = dt.predict(X_val)\n",
    "    rmse_dt = mean_squared_error(y_val_pred, y_val)\n",
    "    print(depth, rmse_dt.round(2))"
   ]
  },
  {
   "cell_type": "code",
   "execution_count": 75,
   "id": "d892c748",
   "metadata": {},
   "outputs": [
    {
     "data": {
      "text/plain": [
       "DecisionTreeRegressor(max_depth=8)"
      ]
     },
     "execution_count": 75,
     "metadata": {},
     "output_type": "execute_result"
    }
   ],
   "source": [
    "dt = DecisionTreeRegressor(max_depth=8)\n",
    "dt.fit(X_train, y_train)"
   ]
  },
  {
   "cell_type": "code",
   "execution_count": 76,
   "id": "bba3b638",
   "metadata": {},
   "outputs": [],
   "source": [
    "y_val_pred = dt.predict(X_val)"
   ]
  },
  {
   "cell_type": "code",
   "execution_count": 77,
   "id": "266dcf9f",
   "metadata": {},
   "outputs": [],
   "source": [
    "rmse_dt = mean_squared_error(y_val_pred, y_val)"
   ]
  },
  {
   "cell_type": "code",
   "execution_count": 78,
   "id": "2c8f12d1",
   "metadata": {},
   "outputs": [
    {
     "data": {
      "text/plain": [
       "0.8735987395407103"
      ]
     },
     "execution_count": 78,
     "metadata": {},
     "output_type": "execute_result"
    }
   ],
   "source": [
    "rmse_dt"
   ]
  },
  {
   "cell_type": "markdown",
   "id": "75fa833a",
   "metadata": {},
   "source": [
    "rmse \n",
    "293.9700548580357"
   ]
  },
  {
   "cell_type": "markdown",
   "id": "2297fe07",
   "metadata": {},
   "source": [
    "# Random Forest\n"
   ]
  },
  {
   "cell_type": "code",
   "execution_count": 43,
   "id": "d36b5f45",
   "metadata": {},
   "outputs": [],
   "source": [
    "from sklearn.ensemble import RandomForestRegressor"
   ]
  },
  {
   "cell_type": "code",
   "execution_count": 44,
   "id": "40d05804",
   "metadata": {},
   "outputs": [],
   "source": [
    "rf = RandomForestRegressor(n_estimators=10, random_state=1, n_jobs=-1)"
   ]
  },
  {
   "cell_type": "code",
   "execution_count": 45,
   "id": "32ae452a",
   "metadata": {},
   "outputs": [
    {
     "data": {
      "text/plain": [
       "RandomForestRegressor(n_estimators=10, n_jobs=-1, random_state=1)"
      ]
     },
     "execution_count": 45,
     "metadata": {},
     "output_type": "execute_result"
    }
   ],
   "source": [
    "rf.fit(X_train, y_train)"
   ]
  },
  {
   "cell_type": "code",
   "execution_count": 46,
   "id": "107b143f",
   "metadata": {},
   "outputs": [],
   "source": [
    "y_val_pred = rf.predict(X_val)"
   ]
  },
  {
   "cell_type": "code",
   "execution_count": 47,
   "id": "b436aac3",
   "metadata": {},
   "outputs": [],
   "source": [
    "rmse_rf = mean_squared_error(y_val_pred, y_val)"
   ]
  },
  {
   "cell_type": "code",
   "execution_count": 74,
   "id": "b4a0eff9",
   "metadata": {},
   "outputs": [
    {
     "data": {
      "text/plain": [
       "0.8996966778384925"
      ]
     },
     "execution_count": 74,
     "metadata": {},
     "output_type": "execute_result"
    }
   ],
   "source": [
    "rmse_rf"
   ]
  },
  {
   "cell_type": "code",
   "execution_count": 49,
   "id": "49d0aad5",
   "metadata": {},
   "outputs": [],
   "source": [
    "scores = []\n",
    "\n",
    "for n in range(10, 201, 10):\n",
    "    rf = RandomForestRegressor(n_estimators=n, random_state=1)\n",
    "    rf.fit(X_train, y_train)\n",
    "\n",
    "    y_val_pred = rf.predict(X_val)\n",
    "    rmse = mean_squared_error(y_val, y_val_pred)\n",
    "    \n",
    "    scores.append((n, rmse))"
   ]
  },
  {
   "cell_type": "code",
   "execution_count": 50,
   "id": "d99f82eb",
   "metadata": {},
   "outputs": [
    {
     "data": {
      "text/plain": [
       "[(10, 0.8996966778384926),\n",
       " (20, 0.8696626892633991),\n",
       " (30, 0.8625234525801624),\n",
       " (40, 0.8682918401801133),\n",
       " (50, 0.8653241330180723),\n",
       " (60, 0.8622626042740358),\n",
       " (70, 0.8690144988108018),\n",
       " (80, 0.8650750718779596),\n",
       " (90, 0.8623062573073847),\n",
       " (100, 0.8665733256851366),\n",
       " (110, 0.8626505841441761),\n",
       " (120, 0.8631444188506232),\n",
       " (130, 0.8662992221799021),\n",
       " (140, 0.8661361402595336),\n",
       " (150, 0.8704927984297909),\n",
       " (160, 0.8716513379061938),\n",
       " (170, 0.8741393151572993),\n",
       " (180, 0.8757535989638678),\n",
       " (190, 0.8755603135777567),\n",
       " (200, 0.8780511878923212)]"
      ]
     },
     "execution_count": 50,
     "metadata": {},
     "output_type": "execute_result"
    }
   ],
   "source": [
    "scores"
   ]
  },
  {
   "cell_type": "markdown",
   "id": "64a3745e",
   "metadata": {},
   "source": [
    "# XGBoost"
   ]
  },
  {
   "cell_type": "code",
   "execution_count": 51,
   "id": "c72f071f",
   "metadata": {},
   "outputs": [
    {
     "name": "stderr",
     "output_type": "stream",
     "text": [
      "C:\\Users\\MI\\anaconda3\\lib\\site-packages\\xgboost\\compat.py:36: FutureWarning: pandas.Int64Index is deprecated and will be removed from pandas in a future version. Use pandas.Index with the appropriate dtype instead.\n",
      "  from pandas import MultiIndex, Int64Index\n"
     ]
    }
   ],
   "source": [
    "import xgboost as xg\n"
   ]
  },
  {
   "cell_type": "code",
   "execution_count": 52,
   "id": "0ef2bd54",
   "metadata": {},
   "outputs": [],
   "source": [
    "xgb_r = xg.XGBRegressor(objective ='reg:linear',\n",
    "                  n_estimators = 10, seed = 123)"
   ]
  },
  {
   "cell_type": "code",
   "execution_count": 53,
   "id": "697e9932",
   "metadata": {},
   "outputs": [
    {
     "name": "stdout",
     "output_type": "stream",
     "text": [
      "[20:52:55] WARNING: c:\\windows\\temp\\abs_557yfx631l\\croots\\recipe\\xgboost-split_1659548953302\\work\\src\\objective\\regression_obj.cu:188: reg:linear is now deprecated in favor of reg:squarederror.\n"
     ]
    },
    {
     "data": {
      "text/plain": [
       "XGBRegressor(base_score=0.5, booster='gbtree', colsample_bylevel=1,\n",
       "             colsample_bynode=1, colsample_bytree=1, enable_categorical=False,\n",
       "             gamma=0, gpu_id=-1, importance_type=None,\n",
       "             interaction_constraints='', learning_rate=0.300000012,\n",
       "             max_delta_step=0, max_depth=6, min_child_weight=1, missing=nan,\n",
       "             monotone_constraints='()', n_estimators=10, n_jobs=8,\n",
       "             num_parallel_tree=1, objective='reg:linear', predictor='auto',\n",
       "             random_state=123, reg_alpha=0, reg_lambda=1, scale_pos_weight=1,\n",
       "             seed=123, subsample=1, tree_method='exact', validate_parameters=1,\n",
       "             verbosity=None)"
      ]
     },
     "execution_count": 53,
     "metadata": {},
     "output_type": "execute_result"
    }
   ],
   "source": [
    "xgb_r.fit(X_train, y_train)\n"
   ]
  },
  {
   "cell_type": "code",
   "execution_count": 54,
   "id": "1849854f",
   "metadata": {},
   "outputs": [],
   "source": [
    "y_test_pred = xgb_r.predict(X_test)"
   ]
  },
  {
   "cell_type": "code",
   "execution_count": 69,
   "id": "d58702b8",
   "metadata": {},
   "outputs": [],
   "source": [
    "rmse_xg_test = mean_squared_error(y_test_pred, y_test)"
   ]
  },
  {
   "cell_type": "code",
   "execution_count": 70,
   "id": "ba51526d",
   "metadata": {},
   "outputs": [
    {
     "data": {
      "text/plain": [
       "0.7461300604677716"
      ]
     },
     "execution_count": 70,
     "metadata": {},
     "output_type": "execute_result"
    }
   ],
   "source": [
    "rmse_xg_test"
   ]
  },
  {
   "cell_type": "code",
   "execution_count": 71,
   "id": "fb93fbd4",
   "metadata": {},
   "outputs": [],
   "source": [
    "y_val_pred = xgb_r.predict(X_val)\n"
   ]
  },
  {
   "cell_type": "code",
   "execution_count": 72,
   "id": "0d0cc621",
   "metadata": {},
   "outputs": [],
   "source": [
    "rmse_xg = mean_squared_error(y_val_pred, y_val)"
   ]
  },
  {
   "cell_type": "code",
   "execution_count": 73,
   "id": "bfac37ec",
   "metadata": {},
   "outputs": [
    {
     "data": {
      "text/plain": [
       "0.8379907517310754"
      ]
     },
     "execution_count": 73,
     "metadata": {},
     "output_type": "execute_result"
    }
   ],
   "source": [
    "rmse_xg"
   ]
  },
  {
   "cell_type": "code",
   "execution_count": 58,
   "id": "8f233caf",
   "metadata": {},
   "outputs": [],
   "source": [
    "y_val_pred_exp = np.exp(y_val_pred)"
   ]
  },
  {
   "cell_type": "code",
   "execution_count": 59,
   "id": "4a038afa",
   "metadata": {},
   "outputs": [],
   "source": [
    "X_sample = X_train[20]"
   ]
  },
  {
   "cell_type": "code",
   "execution_count": 104,
   "id": "1753f45f",
   "metadata": {},
   "outputs": [
    {
     "data": {
      "text/plain": [
       "array([[ 0.     ,  0.     ,  0.     ,  0.     ,  0.     ,  0.     ,\n",
       "         0.     ,  0.     ,  0.     ,  0.     ,  0.     ,  0.     ,\n",
       "         0.     ,  0.     ,  0.     ,  0.     ,  0.     ,  0.     ,\n",
       "         0.     ,  0.     ,  0.     ,  0.     ,  0.     ,  0.     ,\n",
       "         0.     ,  0.     ,  0.     ,  0.     ,  0.     ,  0.     ,\n",
       "         0.     ,  0.     ,  0.     ,  0.     ,  0.     ,  0.     ,\n",
       "         0.     ,  0.     ,  0.     ,  0.     ,  0.     ,  0.     ,\n",
       "         0.     ,  0.     ,  0.     ,  0.     ,  0.     ,  0.     ,\n",
       "         0.     ,  0.     ,  0.     ,  0.     ,  0.     ,  0.     ,\n",
       "         0.     ,  0.     ,  0.     ,  0.     ,  1.     ,  0.     ,\n",
       "         0.     ,  0.     ,  0.     ,  0.     ,  0.     ,  0.     ,\n",
       "         0.     ,  0.     ,  0.     ,  0.     ,  0.     ,  0.     ,\n",
       "         0.     ,  0.     ,  0.     ,  0.     ,  0.     ,  0.     ,\n",
       "         0.     ,  0.     ,  0.     ,  0.     ,  0.     ,  0.     ,\n",
       "         0.     ,  0.     ,  0.     ,  0.     ,  0.     ,  0.     ,\n",
       "         0.     ,  0.     ,  0.     ,  0.     ,  0.     ,  0.     ,\n",
       "         0.     ,  0.     ,  0.     ,  0.     ,  0.     ,  0.     ,\n",
       "         0.     ,  0.     ,  0.     ,  0.     ,  0.     ,  0.     ,\n",
       "         0.     ,  0.     ,  0.     , 32.89698]])"
      ]
     },
     "execution_count": 104,
     "metadata": {},
     "output_type": "execute_result"
    }
   ],
   "source": [
    "X_sample"
   ]
  },
  {
   "cell_type": "code",
   "execution_count": 105,
   "id": "a5551a9c",
   "metadata": {},
   "outputs": [],
   "source": [
    "X_sample = X_sample.reshape(1,-1)"
   ]
  },
  {
   "cell_type": "code",
   "execution_count": 106,
   "id": "8d0e5c7f",
   "metadata": {},
   "outputs": [
    {
     "data": {
      "text/plain": [
       "array([[ 0.     ,  0.     ,  0.     ,  0.     ,  0.     ,  0.     ,\n",
       "         0.     ,  0.     ,  0.     ,  0.     ,  0.     ,  0.     ,\n",
       "         0.     ,  0.     ,  0.     ,  0.     ,  0.     ,  0.     ,\n",
       "         0.     ,  0.     ,  0.     ,  0.     ,  0.     ,  0.     ,\n",
       "         0.     ,  0.     ,  0.     ,  0.     ,  0.     ,  0.     ,\n",
       "         0.     ,  0.     ,  0.     ,  0.     ,  0.     ,  0.     ,\n",
       "         0.     ,  0.     ,  0.     ,  0.     ,  0.     ,  0.     ,\n",
       "         0.     ,  0.     ,  0.     ,  0.     ,  0.     ,  0.     ,\n",
       "         0.     ,  0.     ,  0.     ,  0.     ,  0.     ,  0.     ,\n",
       "         0.     ,  0.     ,  0.     ,  0.     ,  1.     ,  0.     ,\n",
       "         0.     ,  0.     ,  0.     ,  0.     ,  0.     ,  0.     ,\n",
       "         0.     ,  0.     ,  0.     ,  0.     ,  0.     ,  0.     ,\n",
       "         0.     ,  0.     ,  0.     ,  0.     ,  0.     ,  0.     ,\n",
       "         0.     ,  0.     ,  0.     ,  0.     ,  0.     ,  0.     ,\n",
       "         0.     ,  0.     ,  0.     ,  0.     ,  0.     ,  0.     ,\n",
       "         0.     ,  0.     ,  0.     ,  0.     ,  0.     ,  0.     ,\n",
       "         0.     ,  0.     ,  0.     ,  0.     ,  0.     ,  0.     ,\n",
       "         0.     ,  0.     ,  0.     ,  0.     ,  0.     ,  0.     ,\n",
       "         0.     ,  0.     ,  0.     , 32.89698]])"
      ]
     },
     "execution_count": 106,
     "metadata": {},
     "output_type": "execute_result"
    }
   ],
   "source": [
    "X_sample"
   ]
  },
  {
   "cell_type": "code",
   "execution_count": 82,
   "id": "b2090d38",
   "metadata": {},
   "outputs": [],
   "source": [
    "y_sample = y_train[20]"
   ]
  },
  {
   "cell_type": "code",
   "execution_count": 83,
   "id": "42df1b60",
   "metadata": {},
   "outputs": [
    {
     "data": {
      "text/plain": [
       "3.398166125376763"
      ]
     },
     "execution_count": 83,
     "metadata": {},
     "output_type": "execute_result"
    }
   ],
   "source": [
    "y_sample"
   ]
  },
  {
   "cell_type": "code",
   "execution_count": 84,
   "id": "dcd9d002",
   "metadata": {},
   "outputs": [
    {
     "data": {
      "text/plain": [
       "29.909200000000002"
      ]
     },
     "execution_count": 84,
     "metadata": {},
     "output_type": "execute_result"
    }
   ],
   "source": [
    "np.exp(y_sample)"
   ]
  },
  {
   "cell_type": "code",
   "execution_count": 85,
   "id": "7d0edda5",
   "metadata": {},
   "outputs": [],
   "source": [
    "sample_pred = xgb_r.predict(X_sample)\n"
   ]
  },
  {
   "cell_type": "code",
   "execution_count": 86,
   "id": "fa3970dc",
   "metadata": {},
   "outputs": [
    {
     "data": {
      "text/plain": [
       "array([1.5608474], dtype=float32)"
      ]
     },
     "execution_count": 86,
     "metadata": {},
     "output_type": "execute_result"
    }
   ],
   "source": [
    "sample_pred"
   ]
  },
  {
   "cell_type": "code",
   "execution_count": 87,
   "id": "5a44ec24",
   "metadata": {},
   "outputs": [
    {
     "data": {
      "text/plain": [
       "array([4.7628555], dtype=float32)"
      ]
     },
     "execution_count": 87,
     "metadata": {},
     "output_type": "execute_result"
    }
   ],
   "source": [
    "np.exp(sample_pred)"
   ]
  },
  {
   "cell_type": "code",
   "execution_count": null,
   "id": "8aa4d198",
   "metadata": {},
   "outputs": [],
   "source": []
  },
  {
   "cell_type": "code",
   "execution_count": 92,
   "id": "2aac53ef",
   "metadata": {},
   "outputs": [],
   "source": [
    "import pickle"
   ]
  },
  {
   "cell_type": "code",
   "execution_count": 94,
   "id": "6f36b7bc",
   "metadata": {},
   "outputs": [],
   "source": [
    "pickle_out = open('xgb_r.pkl','wb')\n",
    "pickle.dump(xgb_r, pickle_out)\n",
    "pickle_out.close()"
   ]
  },
  {
   "cell_type": "code",
   "execution_count": null,
   "id": "53a013d4",
   "metadata": {},
   "outputs": [],
   "source": []
  }
 ],
 "metadata": {
  "kernelspec": {
   "display_name": "Python 3 (ipykernel)",
   "language": "python",
   "name": "python3"
  },
  "language_info": {
   "codemirror_mode": {
    "name": "ipython",
    "version": 3
   },
   "file_extension": ".py",
   "mimetype": "text/x-python",
   "name": "python",
   "nbconvert_exporter": "python",
   "pygments_lexer": "ipython3",
   "version": "3.9.12"
  }
 },
 "nbformat": 4,
 "nbformat_minor": 5
}
